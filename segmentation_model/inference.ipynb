{
 "cells": [
  {
   "cell_type": "code",
   "execution_count": 44,
   "metadata": {},
   "outputs": [],
   "source": [
    "import numpy as np \n",
    "import torch\n",
    "from torchvision import transforms\n",
    "from PIL import Image\n",
    "from model import UNET \n",
    "import os \n",
    "import albumentations as A \n",
    "from albumentations.pytorch import ToTensorV2 \n"
   ]
  },
  {
   "cell_type": "code",
   "execution_count": 51,
   "metadata": {},
   "outputs": [
    {
     "name": "stdout",
     "output_type": "stream",
     "text": [
      "=> Loading checkpoint\n"
     ]
    }
   ],
   "source": [
    "def load_checkpoint(checkpoint, model):\n",
    "    print(\"=> Loading checkpoint\")\n",
    "    model.load_state_dict(checkpoint[\"state_dict\"])\n",
    "\n",
    "DEVICE = \"cuda\" if torch.cuda.is_available() else \"cpu\" \n",
    "IMAGE_HEIGHT = 270 \n",
    "IMAGE_WIDTH = 480 \n",
    "\n",
    "model = UNET(in_channels=3, out_channels=1).to(DEVICE) \n",
    "load_checkpoint(torch.load(\"my_checkpoint.pth_0.9998.tar\"), model) \n",
    "\n",
    "def inference(model, image): \n",
    "    model.eval()  # Set the model to evaluation mode\n",
    "    with torch.no_grad():  # Disable gradient calculation\n",
    "        preds = torch.sigmoid(model(image))\n",
    "        preds = (preds > 0.5).float()\n",
    "    return preds \n",
    "\n",
    "transform = A.Compose(\n",
    "    [\n",
    "        A.Resize(height=IMAGE_HEIGHT, width=IMAGE_WIDTH),\n",
    "        A.Normalize(\n",
    "            # mean=[0.0, 0.0, 0.0],\n",
    "            # std=[1.0, 1.0, 1.0],\n",
    "            # max_pixel_value=255.0,\n",
    "            max_pixel_value=1.0,\n",
    "        ),\n",
    "        ToTensorV2(), \n",
    "    ]\n",
    ")\n",
    "\n",
    "image_dir = \"test_images_real\" \n",
    "all_images = [f for f in os.listdir(image_dir) if os.path.isfile(os.path.join(image_dir, f))]  # Filter out directories\n",
    "output_dir = os.path.join(image_dir, \"predictions\")\n",
    "os.makedirs(output_dir, exist_ok=True)  # Create the output directory if it doesn't exist\n",
    "\n",
    "for i in range(len(all_images)): \n",
    "    image_path = os.path.join(image_dir, all_images[i]) \n",
    "    image = Image.open(image_path).convert(\"RGB\")  # Open the image and convert to RGB\n",
    "    image = np.array(image)  # Convert the image to a numpy array\n",
    "    transformed = transform(image=image)  # Apply the transform\n",
    "    image = transformed[\"image\"].unsqueeze(0).to(DEVICE)  # Add batch dimension and move to device\n",
    "\n",
    "    pred = inference(model, image)\n",
    "\n",
    "    # Convert the prediction to a PIL image and save it\n",
    "    pred_image = transforms.ToPILImage()(pred.squeeze(0).cpu())\n",
    "    pred_image.save(os.path.join(output_dir, f\"prediction_{i}.png\"))"
   ]
  }
 ],
 "metadata": {
  "kernelspec": {
   "display_name": "Python 3",
   "language": "python",
   "name": "python3"
  },
  "language_info": {
   "codemirror_mode": {
    "name": "ipython",
    "version": 3
   },
   "file_extension": ".py",
   "mimetype": "text/x-python",
   "name": "python",
   "nbconvert_exporter": "python",
   "pygments_lexer": "ipython3",
   "version": "3.8.17"
  }
 },
 "nbformat": 4,
 "nbformat_minor": 2
}
