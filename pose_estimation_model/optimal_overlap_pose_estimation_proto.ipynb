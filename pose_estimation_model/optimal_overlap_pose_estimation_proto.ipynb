{
 "cells": [
  {
   "cell_type": "markdown",
   "metadata": {},
   "source": [
    "IMPORTS"
   ]
  },
  {
   "cell_type": "code",
   "execution_count": 24,
   "metadata": {},
   "outputs": [],
   "source": [
    "import numpy as np \n",
    "from PIL import Image \n",
    "import os \n",
    "import cv2 "
   ]
  },
  {
   "cell_type": "markdown",
   "metadata": {},
   "source": [
    "CUSTOM CLASS"
   ]
  },
  {
   "cell_type": "code",
   "execution_count": 25,
   "metadata": {},
   "outputs": [],
   "source": [
    "# custom class to store image pairs  \n",
    "class ImagePair:\n",
    "    def __init__(self, img, pred):\n",
    "        self.img = img\n",
    "        self.pred = pred \n",
    "\n",
    "    def __repr__(self):\n",
    "        return f\"ImagePair(img={self.img}, pred={self.pred})\" \n",
    "\n",
    "# custom class to store list of image pairs from directories \n",
    "class ImagePairSet:\n",
    "    def __init__(self, img_dir, pred_dir):\n",
    "        self.img_dir = img_dir\n",
    "        self.pred_dir = pred_dir\n",
    "        self.img_paths = self.list_images(img_dir) \n",
    "        self.pred_paths = self.find_corresponding_preds(pred_dir) \n",
    "        self.image_pairs = self.create_image_pairs() \n",
    "\n",
    "    def list_images(self, img_dir): \n",
    "        # read all images from directory and return list of image paths \n",
    "        img_paths = []\n",
    "        for img in os.listdir(img_dir):\n",
    "            if img.endswith(\".png\"):\n",
    "                img_paths.append(img_dir + img)\n",
    "        return img_paths \n",
    "    \n",
    "    def find_corresponding_preds(self, pred_dir):\n",
    "        # find corresponding predictions for each image in img_dir\n",
    "        pred_paths = []\n",
    "        for img_path in self.img_paths:\n",
    "            img_name = img_path.split('/')[-1]\n",
    "            pred_path = pred_dir + img_name.replace(\".png\",\"_prediction.png\")\n",
    "            pred_paths.append(pred_path)\n",
    "        return pred_paths \n",
    "    \n",
    "    def create_image_pairs(self):\n",
    "        # create list of image pairs \n",
    "        image_pairs = []\n",
    "        for i in range(len(self.img_paths)):\n",
    "            img = Image.open(self.img_paths[i])\n",
    "            pred = Image.open(self.pred_paths[i])\n",
    "            image_pairs.append(ImagePair(img, pred))\n",
    "        return image_pairs"
   ]
  },
  {
   "cell_type": "markdown",
   "metadata": {},
   "source": [
    "READ IMAGES"
   ]
  },
  {
   "cell_type": "code",
   "execution_count": 26,
   "metadata": {},
   "outputs": [
    {
     "name": "stdout",
     "output_type": "stream",
     "text": [
      "60\n"
     ]
    }
   ],
   "source": [
    "dir_images = \"/home/rp/abhay_ws/marker_detection_failure_recovery/segmentation_model/test_images_real/\" \n",
    "dir_predictions = \"/home/rp/abhay_ws/marker_detection_failure_recovery/segmentation_model/test_images_real/predictions_20250311-235326/predictions/\" \n",
    "\n",
    "# create ImagePairSet object\n",
    "image_pair_set = ImagePairSet(dir_images, dir_predictions) \n",
    "print(len(image_pair_set.image_pairs)) \n",
    "\n"
   ]
  },
  {
   "cell_type": "markdown",
   "metadata": {},
   "source": [
    "TODO: \n",
    "\n",
    "* loop through list of image pairs (exit after first loop) \n",
    "* fit parallelogram to segmented area \n",
    "* initial gueses <- get 4 possible solutions by PnP \n",
    "* for each solution, transform marker to pixel space \n",
    "* determine best configuration by reprojection loss \n",
    "* optimization loop: compute gradient, update pose estimate, compute reprojection loss \n"
   ]
  },
  {
   "cell_type": "code",
   "execution_count": 70,
   "metadata": {},
   "outputs": [
    {
     "name": "stdout",
     "output_type": "stream",
     "text": [
      "[[ 29 231]\n",
      " [ 50 372]\n",
      " [350 374]\n",
      " [310 207]]\n"
     ]
    }
   ],
   "source": [
    "def fit_parallelogram(binary_image):\n",
    "    binary_image = np.array(binary_image)   \n",
    "    # Ensure the input image is binary (already thresholded)\n",
    "    if len(binary_image.shape) == 3:  # In case the image is a color image (unexpected)\n",
    "        binary_image = cv2.cvtColor(binary_image, cv2.COLOR_BGR2GRAY)\n",
    "    \n",
    "    # Find contours from the binary image\n",
    "    contours, _ = cv2.findContours(binary_image, cv2.RETR_EXTERNAL, cv2.CHAIN_APPROX_SIMPLE)\n",
    "\n",
    "    parallelogram_corners = None\n",
    "\n",
    "    for contour in contours:\n",
    "        # Check if the contour is large enough to be considered\n",
    "        area = cv2.contourArea(contour)\n",
    "        if area < 100:  # Threshold for ignoring small contours (adjust as needed)\n",
    "            continue\n",
    "\n",
    "        # Approximate the contour to a polygon (reduce epsilon for higher accuracy)\n",
    "        epsilon = 0.02 * cv2.arcLength(contour, True)  # Reduce epsilon for more accuracy\n",
    "        approx = cv2.approxPolyDP(contour, epsilon, True)\n",
    "\n",
    "        # If the contour has more than 4 points, apply convex hull and approximate again\n",
    "        if len(approx) > 4:\n",
    "            hull = cv2.convexHull(contour)\n",
    "            epsilon = 0.02 * cv2.arcLength(hull, True)  # Reduce epsilon for more accuracy\n",
    "            approx = cv2.approxPolyDP(hull, epsilon, True)\n",
    "\n",
    "        # Check if the polygon has 4 sides (quadrilateral)\n",
    "        if len(approx) == 4:\n",
    "            parallelogram_corners = approx.reshape(4, 2)\n",
    "            break  # Stop after finding the first valid parallelogram\n",
    "    \n",
    "    return parallelogram_corners\n",
    "\n",
    "def get_marker_pose(marker_corners_2d, marker_corners_3d, camera_matrix, dist_coeffs=None):\n",
    "    \"\"\"\n",
    "    Estimates the pose of a marker using the PnP algorithm.\n",
    "    \n",
    "    Parameters:\n",
    "    - marker_corners_2d: A list or array of the marker corners in image space (2D coordinates).\n",
    "    - marker_corners_3d: A list or array of the marker corners in world space (3D coordinates).\n",
    "    - camera_matrix: Camera intrinsic matrix (3x3) containing focal lengths and optical center.\n",
    "    - dist_coeffs: (Optional) Camera distortion coefficients, can be None if no distortion is assumed.\n",
    "    \n",
    "    Returns:\n",
    "    - rotation_vector: Rotation vector (3x1) representing the orientation of the marker.\n",
    "    - translation_vector: Translation vector (3x1) representing the position of the marker.\n",
    "    - success: Boolean indicating whether the pose was successfully estimated.\n",
    "    \"\"\"\n",
    "    \n",
    "    # Ensure the inputs are NumPy arrays\n",
    "    marker_corners_2d = np.array(marker_corners_2d, dtype=np.float32)\n",
    "    marker_corners_3d = np.array(marker_corners_3d, dtype=np.float32)\n",
    "    \n",
    "    # Solve PnP to get the rotation and translation vectors\n",
    "    success, rotation_vector, translation_vector = cv2.solvePnP(\n",
    "        marker_corners_3d,  # 3D points in world space\n",
    "        marker_corners_2d,  # Corresponding 2D points in image space\n",
    "        camera_matrix,      # Camera matrix (intrinsics)\n",
    "        dist_coeffs         # Distortion coefficients (can be None if no distortion)\n",
    "    )\n",
    "    \n",
    "    return rotation_vector, translation_vector, success\n",
    "\n",
    "# loop through image pairs \n",
    "for index, image_pair in enumerate(image_pair_set.image_pairs):\n",
    "\n",
    "    if index == 10: # select specific image \n",
    "        img = image_pair.img\n",
    "        pred = image_pair.pred\n",
    "\n",
    "        # show selected image pair \n",
    "        # img.show()\n",
    "        # pred.show()\n",
    "\n",
    "        # fit parallelogram to pred image \n",
    "        corners = fit_parallelogram(pred) \n",
    "        print(corners)\n",
    "\n",
    "        # draw parallelogram on pred image\n",
    "        pred = np.array(pred)\n",
    "        cv2.polylines(pred, [corners], True, (255, 0, 0), 2)\n",
    "        pred = Image.fromarray(pred)\n",
    "        pred.show() \n",
    "\n",
    "        # use PnP algorithm to determine pose of parallelogram \n",
    "        # Ensure the inputs are NumPy arrays\n",
    "        marker_corners_2d = np.array(marker_corners_2d, dtype=np.float32)\n",
    "        marker_corners_3d = np.array(marker_corners_3d, dtype=np.float32)\n",
    "    \n",
    "        # Solve PnP to get the rotation and translation vectors\n",
    "        success, rotation_vector, translation_vector = cv2.solvePnP(\n",
    "            marker_corners_3d,  # 3D points in world space\n",
    "            marker_corners_2d,  # Corresponding 2D points in image space\n",
    "            camera_matrix,      # Camera matrix (intrinsics)\n",
    "            dist_coeffs         # Distortion coefficients (can be None if no distortion)\n",
    "        )\n",
    "\n",
    "        break \n"
   ]
  }
 ],
 "metadata": {
  "kernelspec": {
   "display_name": "marker_env",
   "language": "python",
   "name": "python3"
  },
  "language_info": {
   "codemirror_mode": {
    "name": "ipython",
    "version": 3
   },
   "file_extension": ".py",
   "mimetype": "text/x-python",
   "name": "python",
   "nbconvert_exporter": "python",
   "pygments_lexer": "ipython3",
   "version": "3.13.0"
  }
 },
 "nbformat": 4,
 "nbformat_minor": 2
}
