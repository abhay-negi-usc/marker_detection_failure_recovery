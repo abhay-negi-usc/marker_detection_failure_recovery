{
 "cells": [
  {
   "cell_type": "markdown",
   "metadata": {},
   "source": [
    "IMPORTS"
   ]
  },
  {
   "cell_type": "code",
   "execution_count": 1,
   "metadata": {},
   "outputs": [],
   "source": [
    "import numpy as np \n",
    "from PIL import Image \n",
    "import os "
   ]
  },
  {
   "cell_type": "markdown",
   "metadata": {},
   "source": [
    "CUSTOM CLASS"
   ]
  },
  {
   "cell_type": "code",
   "execution_count": 13,
   "metadata": {},
   "outputs": [],
   "source": [
    "# custom class to store image pairs  \n",
    "class ImagePair:\n",
    "    def __init__(self, img, pred):\n",
    "        self.img = img\n",
    "        self.pred = pred \n",
    "\n",
    "    def __repr__(self):\n",
    "        return f\"ImagePair(img={self.img}, pred={self.pred})\" \n",
    "\n",
    "# custom class to store list of image pairs from directories \n",
    "class ImagePairSet:\n",
    "    def __init__(self, img_dir, pred_dir):\n",
    "        self.img_dir = img_dir\n",
    "        self.pred_dir = pred_dir\n",
    "        self.img_paths = self.list_images(img_dir) \n",
    "        self.pred_paths = self.find_corresponding_preds(pred_dir) \n",
    "        self.image_pairs = self.create_image_pairs() \n",
    "\n",
    "    def list_images(self, img_dir): \n",
    "        # read all images from directory and return list of image paths \n",
    "        img_paths = []\n",
    "        for img in os.listdir(img_dir):\n",
    "            if img.endswith(\".png\"):\n",
    "                img_paths.append(img_dir + img)\n",
    "        return img_paths \n",
    "    \n",
    "    def find_corresponding_preds(self, pred_dir):\n",
    "        # find corresponding predictions for each image in img_dir\n",
    "        pred_paths = []\n",
    "        for img_path in self.img_paths:\n",
    "            img_name = img_path.split('/')[-1]\n",
    "            pred_path = pred_dir + img_name.replace(\".png\",\"_prediction.png\")\n",
    "            pred_paths.append(pred_path)\n",
    "        return pred_paths \n",
    "    \n",
    "    def create_image_pairs(self):\n",
    "        # create list of image pairs \n",
    "        image_pairs = []\n",
    "        for i in range(len(self.img_paths)):\n",
    "            img = Image.open(self.img_paths[i])\n",
    "            pred = Image.open(self.pred_paths[i])\n",
    "            image_pairs.append(ImagePair(img, pred))\n",
    "        return image_pairs"
   ]
  },
  {
   "cell_type": "markdown",
   "metadata": {},
   "source": [
    "READ IMAGES"
   ]
  },
  {
   "cell_type": "code",
   "execution_count": 15,
   "metadata": {},
   "outputs": [
    {
     "name": "stdout",
     "output_type": "stream",
     "text": [
      "60\n"
     ]
    }
   ],
   "source": [
    "dir_images = \"/home/rp/abhay_ws/marker_detection_failure_recovery/segmentation_model/test_images_real/\" \n",
    "dir_predictions = \"/home/rp/abhay_ws/marker_detection_failure_recovery/segmentation_model/test_images_real/predictions_20250311-235326/predictions/\" \n",
    "\n",
    "# create ImagePairSet object\n",
    "image_pair_set = ImagePairSet(dir_images, dir_predictions) \n",
    "print(len(image_pair_set.image_pairs)) \n",
    "\n"
   ]
  },
  {
   "cell_type": "markdown",
   "metadata": {},
   "source": [
    "TODO: \n",
    "\n",
    "* loop through list of image pairs (exit after first loop) \n",
    "* fit parallelogram to segmented area \n",
    "* initial gueses <- get 4 possible solutions by PnP \n",
    "* for each solution, transform marker to pixel space \n",
    "* determine best configuration by reprojection loss \n",
    "* optimization loop: compute gradient, update pose estimate, compute reprojection loss \n"
   ]
  }
 ],
 "metadata": {
  "kernelspec": {
   "display_name": "marker_env",
   "language": "python",
   "name": "python3"
  },
  "language_info": {
   "codemirror_mode": {
    "name": "ipython",
    "version": 3
   },
   "file_extension": ".py",
   "mimetype": "text/x-python",
   "name": "python",
   "nbconvert_exporter": "python",
   "pygments_lexer": "ipython3",
   "version": "3.13.0"
  }
 },
 "nbformat": 4,
 "nbformat_minor": 2
}
