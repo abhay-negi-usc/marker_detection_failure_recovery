{
 "cells": [
  {
   "cell_type": "code",
   "execution_count": 6,
   "metadata": {},
   "outputs": [],
   "source": [
    "import os \n",
    "from PIL import Image, ImageDraw, ImageEnhance\n",
    "import numpy as np\n",
    "import random "
   ]
  },
  {
   "cell_type": "code",
   "execution_count": 15,
   "metadata": {},
   "outputs": [],
   "source": [
    "def darken_half(image, angle=None):\n",
    "    # Convert image to RGB\n",
    "    img = image.convert(\"RGB\")\n",
    "    width, height = img.size\n",
    "    \n",
    "    # Randomly select which half of the image to darken\n",
    "    darken_left = random.choice([True, False])\n",
    "    \n",
    "    # Define a random line angle if not provided\n",
    "    angle = angle if angle is not None else random.uniform(0, 360)\n",
    "    center_x, center_y = width // 2, height // 2\n",
    "    line_length = min(width, height) * 2  # Make the line extend beyond the image boundaries\n",
    "    \n",
    "    # Calculate the endpoints of the line based on the angle\n",
    "    angle_rad = np.deg2rad(angle)\n",
    "    start_x = center_x - int(np.cos(angle_rad) * line_length)\n",
    "    start_y = center_y - int(np.sin(angle_rad) * line_length)\n",
    "    end_x = center_x + int(np.cos(angle_rad) * line_length)\n",
    "    end_y = center_y + int(np.sin(angle_rad) * line_length)\n",
    "    \n",
    "    # Randomize the darkness factor (between 0.2 and 0.7, you can adjust this range)\n",
    "    darkness_factor = random.uniform(0.2, 0.7)\n",
    "\n",
    "    # Darken the selected half of the image (left or right of the line)\n",
    "    img_data = np.array(img)\n",
    "\n",
    "    # Loop through all pixels and decide whether to darken based on side of the line\n",
    "    for y in range(height):\n",
    "        for x in range(width):\n",
    "            # Calculate the position of the pixel relative to the line\n",
    "            dx = end_x - start_x\n",
    "            dy = end_y - start_y\n",
    "            # Calculate the line equation\n",
    "            line_position = (dy * (x - start_x) - dx * (y - start_y))  # This gives the position relative to the line\n",
    "            if darken_left:\n",
    "                # Darken pixels on the left side of the line\n",
    "                if line_position > 0:\n",
    "                    img_data[y, x] = (img_data[y, x] * darkness_factor).astype(np.uint8)\n",
    "            else:\n",
    "                # Darken pixels on the right side of the line\n",
    "                if line_position < 0:\n",
    "                    img_data[y, x] = (img_data[y, x] * darkness_factor).astype(np.uint8)\n",
    "\n",
    "    # Convert back to an image\n",
    "    img = Image.fromarray(img_data)\n",
    "\n",
    "    return img\n"
   ]
  },
  {
   "cell_type": "code",
   "execution_count": 19,
   "metadata": {},
   "outputs": [],
   "source": [
    "dir = \"../segmentation_model/sim_data/markers_20250314-181037/darken_half\" \n",
    "output_path = dir.replace(\"darken_half\", \"darken_half_twice\") \n",
    "os.makedirs(output_path, exist_ok=True)\n",
    "image_path_list = []\n",
    "for file in os.listdir(dir):\n",
    "    if file.endswith(\".png\"):\n",
    "        image_path_list.append(os.path.join(dir, file)) \n",
    "        image = Image.open(os.path.join(dir, file)) \n",
    "        modified_image = darken_half(image)\n",
    "        modified_image_filepath = os.path.join(output_path,file.replace(\".png\", \"_darken_half.png\")) \n",
    "        modified_image.save(modified_image_filepath)"
   ]
  }
 ],
 "metadata": {
  "kernelspec": {
   "display_name": "marker_env",
   "language": "python",
   "name": "python3"
  },
  "language_info": {
   "codemirror_mode": {
    "name": "ipython",
    "version": 3
   },
   "file_extension": ".py",
   "mimetype": "text/x-python",
   "name": "python",
   "nbconvert_exporter": "python",
   "pygments_lexer": "ipython3",
   "version": "3.12.3"
  }
 },
 "nbformat": 4,
 "nbformat_minor": 2
}
